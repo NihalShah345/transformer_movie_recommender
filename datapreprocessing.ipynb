{
 "cells": [
  {
   "cell_type": "code",
   "execution_count": null,
   "id": "6922455e",
   "metadata": {},
   "outputs": [],
   "source": [
    "import requests\n",
    "import pandas as pd\n",
    "import time\n",
    "from tqdm import tqdm\n",
    "import numpy as np\n",
    "from sklearn.preprocessing import MultiLabelBinarizer\n",
    "\n"
   ]
  },
  {
   "cell_type": "code",
   "execution_count": null,
   "id": "3526f2bb",
   "metadata": {},
   "outputs": [],
   "source": [
    "\n",
    "# TMDb API settings\n",
    "with open(\"readaccess.txt\", \"r\") as f:\n",
    "    ACCESS_TOKEN = f.read().strip()\n",
    "BASE_URL = \"https://api.themoviedb.org/3/discover/movie\"\n",
    "HEADERS = {\n",
    "    \"Authorization\": f\"Bearer {ACCESS_TOKEN}\",\n",
    "    \"accept\": \"application/json\"\n",
    "}\n",
    "\n",
    "# Parameters to fetch without restrictions\n",
    "PARAMS = {\n",
    "    \"include_adult\": \"true\",\n",
    "    \"include_video\": \"false\",\n",
    "    \"language\": \"en-US\",\n",
    "    \"sort_by\": \"popularity.desc\",  # You could also try vote_average.desc\n",
    "    \"page\": 1  # We'll increment this up to page 50 (20 movies per page)\n",
    "}\n",
    "\n",
    "all_movies = []\n",
    "\n",
    "for page in range(1, 51):  # 50 pages * 20 movies/page = 1000 movies\n",
    "    print(f\"Fetching page {page}...\")\n",
    "    PARAMS[\"page\"] = page\n",
    "    response = requests.get(BASE_URL, headers=HEADERS, params=PARAMS)\n",
    "    if response.status_code == 200:\n",
    "        data = response.json()\n",
    "        all_movies.extend(data[\"results\"])\n",
    "    else:\n",
    "        print(f\"Failed on page {page}: {response.status_code}\")\n",
    "        break\n",
    "    time.sleep(0.25)  # Avoid hitting rate limits\n",
    "\n",
    "# Convert to DataFrame\n",
    "df_movies = pd.DataFrame(all_movies)\n",
    "df_movies = df_movies.drop_duplicates(subset=\"id\").reset_index(drop=True)\n",
    "\n",
    "print(f\"Retrieved {len(df_movies)} movies.\")\n",
    "df_movies.head()\n"
   ]
  },
  {
   "cell_type": "code",
   "execution_count": null,
   "id": "6b2625a7",
   "metadata": {},
   "outputs": [],
   "source": [
    "desired_columns = [\n",
    "    \"adult\", \"genre_ids\", \"id\", \"original_language\",\n",
    "    \"original_title\", \"overview\", \"popularity\",\n",
    "    \"release_date\", \"title\", \"video\",\n",
    "    \"vote_average\", \"vote_count\"\n",
    "]\n",
    "\n",
    "df_movies = df_movies[desired_columns]\n",
    "df_movies.head()\n"
   ]
  },
  {
   "cell_type": "code",
   "execution_count": null,
   "id": "f5a0b5bd",
   "metadata": {},
   "outputs": [],
   "source": [
    "# 1. Get genre ID-to-name mapping\n",
    "genre_url = \"https://api.themoviedb.org/3/genre/movie/list\"\n",
    "genre_response = requests.get(genre_url, headers=HEADERS)\n",
    "genre_data = genre_response.json()\n",
    "\n",
    "genre_map = {genre['id']: genre['name'] for genre in genre_data['genres']}\n",
    "\n",
    "# 2. Convert genre_ids to names\n",
    "def map_genre_ids_to_names(id_list):\n",
    "    return [genre_map.get(gid, \"Unknown\") for gid in id_list]\n",
    "\n",
    "df_movies['genres'] = df_movies['genre_ids'].apply(map_genre_ids_to_names)\n",
    "df_movies.drop(columns=['genre_ids'], inplace=True)\n",
    "\n",
    "df_movies[['title', 'genres']].head()\n",
    "\n"
   ]
  },
  {
   "cell_type": "code",
   "execution_count": null,
   "id": "ad25cd0b",
   "metadata": {},
   "outputs": [],
   "source": [
    "\n",
    "# Initialize the encoder\n",
    "mlb = MultiLabelBinarizer()\n",
    "\n",
    "# Fit and transform the 'genres' column\n",
    "genre_encoded = mlb.fit_transform(df_movies['genres'])\n",
    "\n",
    "# Create a DataFrame with the genre columns\n",
    "df_genres = pd.DataFrame(genre_encoded, columns=mlb.classes_)\n",
    "\n",
    "# Concatenate with the original DataFrame\n",
    "df_movies = pd.concat([df_movies.drop(columns=['genres']), df_genres], axis=1)\n",
    "\n",
    "# Display updated DataFrame\n",
    "df_movies.head()\n"
   ]
  },
  {
   "cell_type": "code",
   "execution_count": null,
   "id": "43beaef6",
   "metadata": {},
   "outputs": [],
   "source": [
    "\n",
    "\n",
    "# Store results\n",
    "directors_list = []\n",
    "cast_list = []\n",
    "\n",
    "# You already have this function defined:\n",
    "def get_crew_and_cast(movie_id):\n",
    "    url = f\"https://api.themoviedb.org/3/movie/{movie_id}/credits\"\n",
    "    response = requests.get(url, headers=HEADERS)\n",
    "    while response.status_code == 429:\n",
    "        print(\"Rate limited! Sleeping...\")\n",
    "        time.sleep(1)\n",
    "        response = requests.get(url, headers=HEADERS)\n",
    "\n",
    "    if response.status_code != 200:\n",
    "        return [], []\n",
    "\n",
    "    data = response.json()\n",
    "    crew = data.get(\"crew\", [])\n",
    "    cast = data.get(\"cast\", [])\n",
    "\n",
    "    # Filter for Director\n",
    "    directors = [person[\"name\"] for person in crew if person[\"job\"] == \"Director\"]\n",
    "\n",
    "    # Top 3 cast members\n",
    "    top_cast = [person[\"name\"] for person in cast[:3]]\n",
    "\n",
    "    return directors, top_cast\n",
    "\n",
    "# Apply to all movies\n",
    "for movie_id in tqdm(df_movies['id'], desc=\"Fetching crew & cast\"):\n",
    "    directors, top_cast = get_crew_and_cast(movie_id)\n",
    "    directors_list.append(directors)\n",
    "    cast_list.append(top_cast)\n",
    "    time.sleep(0.25)  # Be nice to TMDb (4 req/sec)\n",
    "\n",
    "# Add columns\n",
    "df_movies['directors'] = directors_list\n",
    "df_movies['top_cast'] = cast_list\n"
   ]
  },
  {
   "cell_type": "code",
   "execution_count": null,
   "id": "6fff070c",
   "metadata": {},
   "outputs": [],
   "source": [
    "\n",
    "# Step 1: Ensure one-hot columns are integers\n",
    "df_one_hot = df_movies[mlb.classes_].astype(int)\n",
    "\n",
    "# Step 2: Convert to NumPy array\n",
    "one_hot_array = df_one_hot.to_numpy()\n",
    "\n",
    "# Step 3: Reverse the one-hot encoding\n",
    "reconstructed_genres = mlb.inverse_transform(one_hot_array)\n",
    "\n",
    "# Step 4: Add back to DataFrame\n",
    "df_movies['genres'] = reconstructed_genres\n"
   ]
  },
  {
   "cell_type": "code",
   "execution_count": null,
   "id": "1e4f74b9",
   "metadata": {},
   "outputs": [],
   "source": [
    "df_movies.head()\n"
   ]
  },
  {
   "cell_type": "code",
   "execution_count": null,
   "id": "32b971df",
   "metadata": {},
   "outputs": [],
   "source": [
    "\n"
   ]
  },
  {
   "cell_type": "code",
   "execution_count": null,
   "id": "e437f38c",
   "metadata": {},
   "outputs": [],
   "source": [
    "df_movies.to_csv(\"tmdb_movie_data.csv\", index=False)"
   ]
  },
  {
   "cell_type": "code",
   "execution_count": null,
   "id": "7a2db26a",
   "metadata": {},
   "outputs": [],
   "source": []
  }
 ],
 "metadata": {
  "kernelspec": {
   "display_name": "Python 3",
   "language": "python",
   "name": "python3"
  },
  "language_info": {
   "codemirror_mode": {
    "name": "ipython",
    "version": 3
   },
   "file_extension": ".py",
   "mimetype": "text/x-python",
   "name": "python",
   "nbconvert_exporter": "python",
   "pygments_lexer": "ipython3",
   "version": "3.9.13"
  }
 },
 "nbformat": 4,
 "nbformat_minor": 5
}
