{
 "cells": [
  {
   "cell_type": "code",
   "execution_count": null,
   "id": "9f58d92b",
   "metadata": {},
   "outputs": [],
   "source": [
    "#import block\n",
    "import pandas as pd\n",
    "from sentence_transformers import SentenceTransformer\n",
    "from sklearn.metrics.pairwise import cosine_similarity\n",
    "import numpy as np\n",
    "\n"
   ]
  },
  {
   "cell_type": "code",
   "execution_count": null,
   "id": "e96121bd",
   "metadata": {},
   "outputs": [],
   "source": [
    "import pandas as pd\n",
    "df_movies = pd.read_csv(\"tmdb_movie_data.csv\")\n",
    "df_movies.drop(columns=['text_blob'], inplace=True)\n",
    "# If these are still lists:\n",
    "df_movies['crew_blob'] = (\n",
    "    df_movies['directors'].apply(lambda x: \" \".join(eval(x)) if isinstance(x, str) else \" \".join(x)) + \" \" +\n",
    "    df_movies['top_cast'].apply(lambda x: \" \".join(eval(x)) if isinstance(x, str) else \" \".join(x))\n",
    ")\n",
    "\n",
    "df_movies.head()\n",
    "\n"
   ]
  },
  {
   "cell_type": "code",
   "execution_count": null,
   "id": "d36b135e",
   "metadata": {},
   "outputs": [],
   "source": [
    "model = SentenceTransformer('all-MiniLM-L6-v2')  # small, fast, accurate\n",
    "overview_embeddings = model.encode(df_movies['overview'].fillna(\"\"), convert_to_numpy=True)\n",
    "crew_embeddings = model.encode(df_movies['crew_blob'].fillna(\"\"), convert_to_numpy=True)\n",
    "genre_embeddings = model.encode(df_movies['genres'].fillna(\"\"), convert_to_numpy=True)\n",
    "\n",
    "w_overview = 0.5\n",
    "w_crew = 0.4\n",
    "w_genre = 0.1\n",
    "\n",
    "# Combine all embeddings into one vector per movie\n",
    "combined_embeddings = (\n",
    "    w_overview * overview_embeddings +\n",
    "    w_crew * crew_embeddings +\n",
    "    w_genre * genre_embeddings\n",
    ")\n"
   ]
  },
  {
   "cell_type": "code",
   "execution_count": null,
   "id": "03656259",
   "metadata": {},
   "outputs": [],
   "source": [
    "def recommend_movies(title, top_n=5):\n",
    "    if title not in df_movies['title'].values:\n",
    "        return f\"'{title}' not found in dataset.\"\n",
    "\n",
    "    idx = df_movies[df_movies['title'] == title].index[0]\n",
    "    query_vec = combined_embeddings[idx].reshape(1, -1)\n",
    "    sims = cosine_similarity(query_vec, combined_embeddings)[0]\n",
    "\n",
    "\n",
    "    top_indices = sims.argsort()[::-1][1:top_n+1]\n",
    "    results = df_movies.iloc[top_indices][['title', 'genres', 'vote_average']].copy()\n",
    "    results['similarity'] = sims[top_indices]\n",
    "    \n",
    "    return results"
   ]
  },
  {
   "cell_type": "code",
   "execution_count": null,
   "id": "6f151364",
   "metadata": {},
   "outputs": [],
   "source": [
    "recommend_movies(\"Dune\", top_n=5)\n"
   ]
  },
  {
   "cell_type": "code",
   "execution_count": null,
   "id": "2634968f",
   "metadata": {},
   "outputs": [],
   "source": [
    "#"
   ]
  }
 ],
 "metadata": {
  "kernelspec": {
   "display_name": "Python 3",
   "language": "python",
   "name": "python3"
  },
  "language_info": {
   "codemirror_mode": {
    "name": "ipython",
    "version": 3
   },
   "file_extension": ".py",
   "mimetype": "text/x-python",
   "name": "python",
   "nbconvert_exporter": "python",
   "pygments_lexer": "ipython3",
   "version": "3.9.13"
  }
 },
 "nbformat": 4,
 "nbformat_minor": 5
}
